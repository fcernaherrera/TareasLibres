{
  "nbformat": 4,
  "nbformat_minor": 0,
  "metadata": {
    "colab": {
      "provenance": []
    },
    "kernelspec": {
      "name": "python3",
      "display_name": "Python 3"
    },
    "language_info": {
      "name": "python"
    }
  },
  "cells": [
    {
      "cell_type": "markdown",
      "source": [
        "#EJERCICIOS - SESIÓN 03"
      ],
      "metadata": {
        "id": "Ku1BtcbkKTy7"
      }
    },
    {
      "cell_type": "markdown",
      "source": [
        "1. Escribe un programa que pregunte el precio, el tanto por ciento de \n",
        "descuento, y te diga el precio con descuento. Por ejemplo, si el precio que introduce el usuario es 300 y el descuento 20, el programa dirá que el precio final con descuento es de 240."
      ],
      "metadata": {
        "id": "j0960MXfLEh4"
      }
    },
    {
      "cell_type": "code",
      "source": [],
      "metadata": {
        "id": "lWU3mghH-gKk"
      },
      "execution_count": null,
      "outputs": []
    },
    {
      "cell_type": "code",
      "source": [
        "##Para este programa usamos la función input para que el usuario introduzca el precio y el descuento sobre dicho precio\n",
        "precio = float(input(\"Introduce el precio del producto: \"))\n",
        "descuento = float(input(\"Introduce el descuento: \"))\n",
        "\n",
        "##Definimos el precio_final como la multiplicación entre el precio original y el cálculo del descuento\n",
        "##Para calcular el descuento, recurrimos a la resta de una unidad menos el descuento (entre 100), eso permite capturar lo que se debe descontar\n",
        "precio_final = precio * (1 - descuento / 100)\n",
        "\n",
        "##Finalmente imprimimos\n",
        "print(\"El precio con descuento es: \" + str(precio_final))\n"
      ],
      "metadata": {
        "colab": {
          "base_uri": "https://localhost:8080/"
        },
        "id": "xMTe4utxcqIg",
        "outputId": "8f7b28d3-8fed-4942-a02c-672553aadbb3"
      },
      "execution_count": null,
      "outputs": [
        {
          "output_type": "stream",
          "name": "stdout",
          "text": [
            "Introduce el precio del producto: 100\n",
            "Introduce el descuento: 50\n",
            "El precio con descuento es: 50.0\n"
          ]
        }
      ]
    },
    {
      "cell_type": "markdown",
      "source": [
        "2. Suponiendo que 1 euro = 1.33250 dólares. Escribe un programa que pida al\n",
        "usuario un número de dólares y calcule el cambio en euros. "
      ],
      "metadata": {
        "id": "78bnE_XiLKEA"
      }
    },
    {
      "cell_type": "code",
      "source": [
        "##Primero definimos la equivalencia euro_dolar\n",
        "euro_dolar = 1.33250\n",
        "\n",
        "##Después recurrimos a la función input para que el usuario introduzca la cifra en dólares que quiere convertir\n",
        "dolares = float(input(\"Introduce una cantidad en dólares: \"))\n",
        "\n",
        "##Luego establecemos la operación que dará el cambio, dividiendo los dólares en la equivalencia euro_dolar\n",
        "euros = dolares / euro_dolar\n",
        "\n",
        "##Para mejorar la operación, proponemos truncar los números en dos decimales\n",
        "def redondeo_dos_decimales(n, decimales=0):\n",
        "    numero = 10 ** decimales\n",
        "    return int(n * numero) / numero\n",
        "\n",
        "##Finalmente imprimimos\n",
        "print(\"El cambio en euros es de: \" + str(redondeo_dos_decimales((euros), 2)) + \" euros\")"
      ],
      "metadata": {
        "colab": {
          "base_uri": "https://localhost:8080/"
        },
        "id": "-vh-vNL5dwXt",
        "outputId": "e39da675-5289-4327-aa0f-ddb31cf146ea"
      },
      "execution_count": null,
      "outputs": [
        {
          "output_type": "stream",
          "name": "stdout",
          "text": [
            "Introduce una cantidad en dólares: 100\n",
            "El cambio en euros es de: 75.04 euros\n"
          ]
        }
      ]
    },
    {
      "cell_type": "markdown",
      "source": [
        "3. Escribir un programa que pida por teclado cuatro números y calcule y presente la media\n",
        "de los cuatro.\n",
        "\n"
      ],
      "metadata": {
        "id": "gxifM4MCLLtP"
      }
    },
    {
      "cell_type": "code",
      "source": [
        "##Definimos los cuatro números como cuatro datos que serán ingresados por input\n",
        "n1 = float(input(\"Introduce el primer número: \"))\n",
        "n2 = float(input(\"Introduce el segundo número: \"))\n",
        "n3 = float(input(\"Introduce el tercer número: \"))\n",
        "n4 = float(input(\"Introduce el cuarto número: \"))\n",
        "\n",
        "##Luego definimos la operación de calcular la media sumando y dividiendo entre cuatro\n",
        "media = (n1+n2+n3+n4)/4\n",
        "\n",
        "##Imprimimos\n",
        "print(\"La media de los cuatro números ingresados es: \" + str(media))"
      ],
      "metadata": {
        "colab": {
          "base_uri": "https://localhost:8080/"
        },
        "id": "YSA2tXPIeLOJ",
        "outputId": "379eee90-a60a-4bbc-b79a-e04dfb9b2aca"
      },
      "execution_count": null,
      "outputs": [
        {
          "output_type": "stream",
          "name": "stdout",
          "text": [
            "Introduce el primer número: 15\n",
            "Introduce el segundo número: 16\n",
            "Introduce el tercer número: 13\n",
            "Introduce el cuarto número: 12\n",
            "La media de los cuatro números ingresados es: 14.0\n"
          ]
        }
      ]
    },
    {
      "cell_type": "markdown",
      "source": [
        "4. Un banco calcula la fecha de desembolso de un préstamo 20 días calendario despues que se haya aprobado el crédito. Ingrese por teclado la fecha en que se aprobo el crédito para luego calcular la fecha de desembolso. Por último mostrar en pantalla la fecha de desembolso."
      ],
      "metadata": {
        "id": "_U4kVc1VLL9V"
      }
    },
    {
      "cell_type": "code",
      "source": [
        "##Primero importamos las librerías necesarias\n",
        "from datetime import datetime, timedelta  \n",
        "\n",
        "##Luego definimos la variable fecha_aprobacion\n",
        "fecha_aprobacion = date.fromisoformat(input(\"Ingresa la fecha de aprobacion en formato AAAA-MM-DD: \"))\n",
        "\n",
        "##Finalmente, imprimimos la fecha a la que se le suman 20 días con la función timedelta\n",
        "print(\"La fecha para el desembolso es : \", fecha_aprobacion+timedelta(days=+20))"
      ],
      "metadata": {
        "colab": {
          "base_uri": "https://localhost:8080/"
        },
        "id": "eppFi0uYfL93",
        "outputId": "9cf19177-01f0-47eb-9a61-ed293f88426a"
      },
      "execution_count": null,
      "outputs": [
        {
          "output_type": "stream",
          "name": "stdout",
          "text": [
            "Ingresa la fecha de aprobacion en formato AAAA-MM-DD: 2012-12-30\n",
            "La fecha para el desembolso es :  2013-01-19\n"
          ]
        }
      ]
    },
    {
      "cell_type": "markdown",
      "source": [
        "5. Se tienen tres variables A,B y C. Escribir las instrucciones necesarias para intercambiar entre sí sus valores del modo siguiente:\n",
        "* B toma el valor de A\n",
        "* C toma el valor de B\n",
        "* A tomar el valor de C\n",
        "Nota: Solo se debe usar una variable auxiliar."
      ],
      "metadata": {
        "id": "BY6c_66TQJXz"
      }
    },
    {
      "cell_type": "code",
      "execution_count": null,
      "metadata": {
        "id": "1nzEeHjQKS93",
        "colab": {
          "base_uri": "https://localhost:8080/"
        },
        "outputId": "c03466d6-404a-41f3-8c04-86e3af1e93bc"
      },
      "outputs": [
        {
          "output_type": "stream",
          "name": "stdout",
          "text": [
            "Ingrese el valor de 'a': 1\n",
            "Ingrese el valor de 'b': 4\n",
            "Ingrese el valor de 'c': 8\n",
            "El nuevo valor de 'a' es: 8\n",
            "El nuevo valor de 'b' es: 1\n",
            "El nuevo valor de 'c' es: 4\n"
          ]
        }
      ],
      "source": [
        "##Primero ingresamos los valores de las tres variables\n",
        "a = int(input(\"Ingrese el valor de 'a': \"))\n",
        "b = int(input(\"Ingrese el valor de 'b': \"))\n",
        "c = int(input(\"Ingrese el valor de 'c': \"))\n",
        "\n",
        "##Recurrimos a una variable auxiliar para que se intercambien las variables\n",
        "aux = b\n",
        "b = a\n",
        "a = c\n",
        "c = aux\n",
        "\n",
        "##Imprimimos los nuevos valores\n",
        "print(\"El nuevo valor de 'a' es:\", a)\n",
        "print(\"El nuevo valor de 'b' es:\", b)\n",
        "print(\"El nuevo valor de 'c' es:\", c)"
      ]
    }
  ]
}
