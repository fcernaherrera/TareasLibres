{
  "nbformat": 4,
  "nbformat_minor": 0,
  "metadata": {
    "colab": {
      "provenance": []
    },
    "kernelspec": {
      "name": "python3",
      "display_name": "Python 3"
    },
    "language_info": {
      "name": "python"
    }
  },
  "cells": [
    {
      "cell_type": "markdown",
      "source": [
        "# SESIÓN 02 - EJERCICIOS EN CLASE"
      ],
      "metadata": {
        "id": "pyNfThFbPfb3"
      }
    },
    {
      "cell_type": "markdown",
      "source": [
        "##DATOS"
      ],
      "metadata": {
        "id": "1KbBRaT0O7hA"
      }
    },
    {
      "cell_type": "markdown",
      "source": [
        "1.- Mostrar en pantalla que tipo de variable son los siguientes datos:\n",
        "* 854.235\n",
        "* 20315464\n",
        "* 4j\n",
        "* \"Soy de estudiante de PYTHON\"\n",
        "* True \n",
        "\n",
        "\n"
      ],
      "metadata": {
        "id": "h8Hlwv_bHKu3"
      }
    },
    {
      "cell_type": "code",
      "source": [
        "print (type(854.235))\n",
        "print (type (20315464))\n",
        "print (type (4j))\n",
        "print (type (\"Soy de estudiante de PYTHON\"))\n",
        "print (type (True))"
      ],
      "metadata": {
        "colab": {
          "base_uri": "https://localhost:8080/"
        },
        "id": "DhY4ujg7b_dr",
        "outputId": "bcf7119d-1488-4d0c-c94a-59516ba70510"
      },
      "execution_count": 2,
      "outputs": [
        {
          "output_type": "stream",
          "name": "stdout",
          "text": [
            "<class 'float'>\n",
            "<class 'int'>\n",
            "<class 'complex'>\n",
            "<class 'str'>\n",
            "<class 'bool'>\n"
          ]
        }
      ]
    },
    {
      "cell_type": "markdown",
      "source": [
        "2.-Ejecutar en el interprete lo siguiente:\n",
        "\n",
        "\n",
        "*   Sumar tres unidades al número diez\n",
        "*   Restar veinte unidades al número menos diez\n",
        "* Elevar al cubo al número ocho\n",
        "* La división exacta entre un quinto y un cuarto.\n",
        "* La división entera entre diez entre 3.\n",
        "* Hallar el residuo de la división de quince entre 6. \n"
      ],
      "metadata": {
        "id": "4S0C7rQuIgLZ"
      }
    },
    {
      "cell_type": "code",
      "source": [
        "print (10 + 2 + 1)\n",
        "print(10 - 15 - 5)\n",
        "print(8**3)\n",
        "print((1/5)/(1/4))\n",
        "print(10//3)\n",
        "print(15%6)"
      ],
      "metadata": {
        "colab": {
          "base_uri": "https://localhost:8080/"
        },
        "id": "jx9ehYAbcnVa",
        "outputId": "6b349a7d-b682-4913-9c92-c2ce6114ae40"
      },
      "execution_count": 3,
      "outputs": [
        {
          "output_type": "stream",
          "name": "stdout",
          "text": [
            "13\n",
            "-10\n",
            "512\n",
            "0.8\n",
            "3\n",
            "3\n"
          ]
        }
      ]
    },
    {
      "cell_type": "markdown",
      "source": [
        "3.- Verificar el resultado de las siguientes expresión expresiones:\n",
        "* 6 < 5 and 3 < 10\n",
        "* 6 < 5 or 3 < 10\n",
        "* not ( True == False and 3>=3)\n",
        "* '10' == 10"
      ],
      "metadata": {
        "id": "YX_feh56K6Ew"
      }
    },
    {
      "cell_type": "code",
      "source": [
        "# 6 < 5 = False \n",
        "# 3 < 10 = True\n",
        "print (6 < 5 and 3 < 10)\n",
        "\n",
        "# 6 < 5 = False\n",
        "# 3 < 10 = True\n",
        "print(6 < 5 or 3 < 10)\n",
        "\n",
        "# True == False = False\n",
        "# 3>=3 = True\n",
        "print(not ( True == False and 3>=3))\n",
        "\n",
        "print('10' == 10)"
      ],
      "metadata": {
        "colab": {
          "base_uri": "https://localhost:8080/"
        },
        "id": "M5J4HLfAO6eE",
        "outputId": "3c012d92-6e1b-4732-be7c-cfd1fedf7771"
      },
      "execution_count": null,
      "outputs": [
        {
          "output_type": "stream",
          "name": "stdout",
          "text": [
            "False\n",
            "True\n",
            "True\n",
            "False\n"
          ]
        }
      ]
    },
    {
      "cell_type": "markdown",
      "source": [
        "## Variables:\n"
      ],
      "metadata": {
        "id": "3tbciT1Yk_23"
      }
    },
    {
      "cell_type": "markdown",
      "source": [
        "4. Relizar la siguiente operaciones y verificar que tipo de varibla tiene el resultado final.\n",
        "\n",
        "* Declara tu edad como variable entera\n",
        "* Declara tu altura como una variable flotante\n",
        "* Declarar una variable que almacene un número complejo\n",
        "\n",
        "\n"
      ],
      "metadata": {
        "id": "96rJVej-PUof"
      }
    },
    {
      "cell_type": "code",
      "source": [
        "edad = 26\n",
        "print (type(edad))\n",
        "\n",
        "altura = 172.8\n",
        "print (type(altura))\n",
        "\n",
        "numero_complejo = 26j\n",
        "print (type(numero_complejo))"
      ],
      "metadata": {
        "colab": {
          "base_uri": "https://localhost:8080/"
        },
        "id": "nNvBZc8KP7Tl",
        "outputId": "9d06f8d7-eb59-4ff4-f144-45e22ab5c294"
      },
      "execution_count": 7,
      "outputs": [
        {
          "output_type": "stream",
          "name": "stdout",
          "text": [
            "<class 'int'>\n",
            "<class 'float'>\n",
            "<class 'complex'>\n"
          ]
        }
      ]
    },
    {
      "cell_type": "markdown",
      "source": [
        "5. Cuales son los nombres que no son validas como varibles. \\\n",
        "a) firstname \\\n",
        "b) country \\\n",
        "c) city \\\n",
        "d)num-1 \\\n",
        "e) first_name \\\n",
        "f) capital_city \\\n",
        "g) first@name \\\n",
        "h) _if  \\\n",
        "i) current_year_2021 \\\n",
        "j) first$name \\\n",
        "k) birth_year \\\n",
        "l) num1 \\\n",
        "m) 1num \\\n",
        "\n",
        "\n"
      ],
      "metadata": {
        "id": "1z_HYUHbO3QQ"
      }
    },
    {
      "cell_type": "markdown",
      "source": [
        "d) g) h) j) m)"
      ],
      "metadata": {
        "id": "diOQpP8Yl2QC"
      }
    },
    {
      "cell_type": "markdown",
      "source": [
        "6. Crear variables con los siguientes nombres y observar el resultado:\n",
        "\n",
        "\n",
        "*   continue\n",
        "*   with\n",
        "*  return \n",
        "*  pass\n",
        "*  assert\n",
        "\n"
      ],
      "metadata": {
        "id": "z2GFTsa4Sbcg"
      }
    },
    {
      "cell_type": "code",
      "source": [
        "##Necesariamente da error porque todas aquellas son palabras reservadas\n",
        "continue = dad\n",
        "with = 9\n",
        "return = 0\n",
        "pass = 0.9\n",
        "assert = 4 "
      ],
      "metadata": {
        "id": "hTBaiqxPmgUF",
        "colab": {
          "base_uri": "https://localhost:8080/",
          "height": 130
        },
        "outputId": "2568d498-44bd-4c20-e7f3-1ac1750ba6be"
      },
      "execution_count": 8,
      "outputs": [
        {
          "output_type": "error",
          "ename": "SyntaxError",
          "evalue": "ignored",
          "traceback": [
            "\u001b[0;36m  File \u001b[0;32m\"<ipython-input-8-c965d8798b02>\"\u001b[0;36m, line \u001b[0;32m2\u001b[0m\n\u001b[0;31m    continue = dad\u001b[0m\n\u001b[0m             ^\u001b[0m\n\u001b[0;31mSyntaxError\u001b[0m\u001b[0;31m:\u001b[0m invalid syntax\n"
          ]
        }
      ]
    },
    {
      "cell_type": "markdown",
      "source": [
        "7. Crear 5 constantes cualesquiera e imprimirlas en pantalla."
      ],
      "metadata": {
        "id": "a5nW8mYWS-BC"
      }
    },
    {
      "cell_type": "code",
      "source": [
        "M = 2.14578\n",
        "print(M)\n",
        "\n",
        "F = 6.34\n",
        "print (F)"
      ],
      "metadata": {
        "colab": {
          "base_uri": "https://localhost:8080/"
        },
        "id": "fZ-1BLUJnjav",
        "outputId": "6104616e-3a59-4d1d-f003-5ce01a0eb24c"
      },
      "execution_count": 10,
      "outputs": [
        {
          "output_type": "stream",
          "name": "stdout",
          "text": [
            "2.14578\n",
            "6.34\n"
          ]
        }
      ]
    },
    {
      "cell_type": "markdown",
      "source": [
        "## SENTENCIAS\n"
      ],
      "metadata": {
        "id": "HBc_LfYuwOAB"
      }
    },
    {
      "cell_type": "markdown",
      "source": [
        "8. Asignar los siguientes valores:\n",
        "*  Tipo_cliente = \"Nuevo\"\n",
        "* num_créditos = 16\n",
        "* estado_civil = \"soltero\"\n",
        "* donación_organos = True\n"
      ],
      "metadata": {
        "id": "gX6JcXDQWiB1"
      }
    },
    {
      "cell_type": "code",
      "source": [
        "tipo_cliente = \"Nuevo\"\n",
        "num_créditos = 16\n",
        "estado_civil = \"soltero\"\n",
        "donación_organos = True"
      ],
      "metadata": {
        "id": "z8MRtyQvsfct"
      },
      "execution_count": null,
      "outputs": []
    },
    {
      "cell_type": "markdown",
      "source": [
        "9. Imprimir en pantalla lo siguiente:\n",
        "* \"2+3 = 5\"\n",
        "* \"HELLO WORLD\"\n",
        "* \"Lalalalalalala\""
      ],
      "metadata": {
        "id": "EcQgUUSEXSqL"
      }
    },
    {
      "cell_type": "code",
      "source": [
        "print(\"2+3 = 5, \" + \"HELLO WORLD, \" + \"Lalalalalalala\")"
      ],
      "metadata": {
        "colab": {
          "base_uri": "https://localhost:8080/"
        },
        "id": "Bi-kedUnsjTc",
        "outputId": "8a34fe01-2767-4ab0-87ba-05776932ddae"
      },
      "execution_count": 14,
      "outputs": [
        {
          "output_type": "stream",
          "name": "stdout",
          "text": [
            "2+3 = 5, HELLO WORLD, Lalalalalalala\n"
          ]
        }
      ]
    },
    {
      "cell_type": "markdown",
      "source": [
        "## ORDEN DE LAS OPERACIONES\n",
        "\n"
      ],
      "metadata": {
        "id": "NhvEEAU6yiZ3"
      }
    },
    {
      "cell_type": "markdown",
      "source": [
        "10. Resolver las siguientes expresiones:\n",
        "\n",
        "![image.png](data:image/png;base64,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)\n",
        "\n",
        "Donde: \n",
        "```\n",
        " a=6, b=2, c= 5, d= 9 x=3 , y=5 , z= 7\n",
        "```"
      ],
      "metadata": {
        "id": "sblhycATbF6-"
      }
    },
    {
      "cell_type": "code",
      "source": [
        "print((2 / 2) - (4 * 6 * 5))\n",
        "\n",
        "print((3*3*5) - (5*3) + (12*3) - 17)\n",
        "\n",
        "print((2+9) / (5+4))\n",
        "\n",
        "print((((3*5) / 5) + 2))\n",
        "\n",
        "print((1/5) + ((3*3)/7) + 1)\n",
        "\n",
        "print((1 / (5+3)) + (2/5) + 1)\n",
        "\n",
        "print((1/5) + ((3+3) / (5+1)))"
      ],
      "metadata": {
        "colab": {
          "base_uri": "https://localhost:8080/"
        },
        "id": "hqCqQcNmRIRo",
        "outputId": "db521dea-360e-441b-98f7-16707c2624bf"
      },
      "execution_count": 15,
      "outputs": [
        {
          "output_type": "stream",
          "name": "stdout",
          "text": [
            "-119.0\n",
            "49\n",
            "1.2222222222222223\n",
            "5.0\n",
            "2.4857142857142858\n",
            "1.525\n",
            "1.2\n"
          ]
        }
      ]
    },
    {
      "cell_type": "markdown",
      "source": [
        "11. Resolver las siguientes expresiones:\n",
        "\n",
        "![image.png](data:image/png;base64,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)\n",
        "\n",
        "Donde: \n",
        "```\n",
        " a=8, b=3, x=6 , y=2 , Z=4\n",
        "```"
      ],
      "metadata": {
        "id": "pyhFulSLfVNq"
      }
    },
    {
      "cell_type": "code",
      "source": [
        "print((8**3) + (3**-1))\n",
        "\n",
        "print((6*2) + (6*(3/4)))\n",
        "\n",
        "print(((6*2) / (4/2)) - (2 / (6*4)))\n",
        "\n",
        "print(((6+2) / (4*(2**4))) - 3)"
      ],
      "metadata": {
        "colab": {
          "base_uri": "https://localhost:8080/"
        },
        "id": "crlbnm5HwsGA",
        "outputId": "426ab21c-35a2-4074-9321-093dfeed4dc1"
      },
      "execution_count": 16,
      "outputs": [
        {
          "output_type": "stream",
          "name": "stdout",
          "text": [
            "512.3333333333334\n",
            "16.5\n",
            "5.916666666666667\n",
            "-2.875\n"
          ]
        }
      ]
    },
    {
      "cell_type": "markdown",
      "source": [
        "## OPERACIONES CON CADENA\n"
      ],
      "metadata": {
        "id": "S5mELSl9Dtzj"
      }
    },
    {
      "cell_type": "markdown",
      "source": [
        "12. Concatene la cadena 'Treinta', 'Días', 'De', 'Python' en una sola cadena, 'Treinta días de Python'."
      ],
      "metadata": {
        "id": "qMfPp3y5ij5H"
      }
    },
    {
      "cell_type": "code",
      "source": [
        "print (\"Treinta \" + \"días \" + \"de \" + \"Python\")"
      ],
      "metadata": {
        "colab": {
          "base_uri": "https://localhost:8080/"
        },
        "id": "TGGC2aJy0cBF",
        "outputId": "380d4613-12c6-4d63-df1d-9d670ec37eec"
      },
      "execution_count": 18,
      "outputs": [
        {
          "output_type": "stream",
          "name": "stdout",
          "text": [
            "Treinta días de Python\n"
          ]
        }
      ]
    },
    {
      "cell_type": "markdown",
      "source": [
        "13. Muestre el texto \"Python\" concatenado 10 veces."
      ],
      "metadata": {
        "id": "G2_vmQkLjCT2"
      }
    },
    {
      "cell_type": "code",
      "source": [
        "print(\"Python \"*10)"
      ],
      "metadata": {
        "colab": {
          "base_uri": "https://localhost:8080/"
        },
        "id": "mrBVWIGH0dHV",
        "outputId": "6fc4baf3-2d9d-44b3-a096-cc47d395a848"
      },
      "execution_count": 20,
      "outputs": [
        {
          "output_type": "stream",
          "name": "stdout",
          "text": [
            "Python Python Python Python Python Python Python Python Python Python \n"
          ]
        }
      ]
    },
    {
      "cell_type": "markdown",
      "source": [
        "## Ingresar datos por teclado\n",
        "\n",
        "\n"
      ],
      "metadata": {
        "id": "x4hy838WEiWA"
      }
    },
    {
      "cell_type": "markdown",
      "source": [
        "14. Escribe un programa que use input para pedirle al usuario\n",
        "su nombre y luego darle la bienvenida."
      ],
      "metadata": {
        "id": "MdRN1l9ajSXH"
      }
    },
    {
      "cell_type": "code",
      "source": [
        "nombre = input(\"Escribe tu nombre: \")\n",
        "print (\"¡Bienvenido \" + nombre + \"!\")"
      ],
      "metadata": {
        "colab": {
          "base_uri": "https://localhost:8080/"
        },
        "id": "ztrwdtIl2tgD",
        "outputId": "3198ff63-2f4f-4348-cd30-ca81d07ac554"
      },
      "execution_count": 22,
      "outputs": [
        {
          "output_type": "stream",
          "name": "stdout",
          "text": [
            "Escribe tu nombre: Francisco\n",
            "¡Bienvenido Francisco!\n"
          ]
        }
      ]
    },
    {
      "cell_type": "markdown",
      "source": [
        "15. Escribe un programa para pedirle al usuario el número de\n",
        "horas y la tarifa por hora para calcular el salario bruto."
      ],
      "metadata": {
        "id": "Lq8vayjMjc4C"
      }
    },
    {
      "cell_type": "code",
      "source": [
        "##Primero creamos la variable horas para las horas trabajadas\n",
        "horas = int(input(\"Ingresa el número de horas trabajadas: \"))\n",
        "\n",
        "##Creamos la variable de tarifa por hora\n",
        "tarifa = int(input(\"Ingresa tu tarifa por hora: \"))\n",
        "\n",
        "##Finalmente imprimimos el salario bruto\n",
        "print(\"Tu salario bruto es de: \", horas*tarifa)"
      ],
      "metadata": {
        "colab": {
          "base_uri": "https://localhost:8080/"
        },
        "id": "52R6fPMc2uqY",
        "outputId": "e3fccb54-3797-4010-eb13-57b0da34de54"
      },
      "execution_count": 26,
      "outputs": [
        {
          "output_type": "stream",
          "name": "stdout",
          "text": [
            "Ingresa el número de horas trabajadas: 20\n",
            "Ingresa tu tarifa por hora: 10\n",
            "Tu salario bruto es de:  200\n"
          ]
        }
      ]
    }
  ]
}